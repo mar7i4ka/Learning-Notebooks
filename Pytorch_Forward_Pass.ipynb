{
  "nbformat": 4,
  "nbformat_minor": 0,
  "metadata": {
    "colab": {
      "provenance": [],
      "authorship_tag": "ABX9TyPzEsbDc80xmxGEkLZ0X+gc",
      "include_colab_link": true
    },
    "kernelspec": {
      "name": "python3",
      "display_name": "Python 3"
    },
    "language_info": {
      "name": "python"
    }
  },
  "cells": [
    {
      "cell_type": "markdown",
      "metadata": {
        "id": "view-in-github",
        "colab_type": "text"
      },
      "source": [
        "<a href=\"https://colab.research.google.com/github/mar7i4ka/Learning-Notebooks/blob/main/Pytorch_Forward_Pass.ipynb\" target=\"_parent\"><img src=\"https://colab.research.google.com/assets/colab-badge.svg\" alt=\"Open In Colab\"/></a>"
      ]
    },
    {
      "cell_type": "code",
      "source": [
        "import torch\n",
        "\n",
        "x = torch.tensor([1.0, 1.0])\n",
        "\n",
        "# ----- тегла -----\n",
        "W1 = torch.tensor([[ 0.5,  0.7],\n",
        "                   [ 0.3, -0.7]])\n",
        "\n",
        "W2 = torch.tensor([[0.3, 0.7],\n",
        "                   [0.4, 0.5]])\n",
        "\n",
        "\n",
        "z_pre = W1 @ x\n",
        "z     = torch.sigmoid(z_pre)\n",
        "\n",
        "y_pre = W2 @ z\n",
        "y     = torch.sigmoid(y_pre)\n",
        "\n",
        "print(\"Hidden pre-activations :\", z_pre.numpy())\n",
        "print(\"Hidden activations     :\", z.numpy())\n",
        "print(\"Output pre-activations :\", y_pre.numpy())\n",
        "print(\"Outputs                :\", y.numpy())\n"
      ],
      "metadata": {
        "colab": {
          "base_uri": "https://localhost:8080/"
        },
        "id": "1My19MDP_7lK",
        "outputId": "4e9017e3-07d1-4d4d-d43b-655c6060606e"
      },
      "execution_count": null,
      "outputs": [
        {
          "output_type": "stream",
          "name": "stdout",
          "text": [
            "Hidden pre-activations : [ 1.2        -0.39999998]\n",
            "Hidden activations     : [0.7685248  0.40131235]\n",
            "Output pre-activations : [0.5114761 0.5080661]\n",
            "Outputs                : [0.6251524 0.624353 ]\n"
          ]
        }
      ]
    },
    {
      "cell_type": "code",
      "source": [
        "x = torch.tensor([1.0, 1.0])\n",
        "\n",
        "W1 = torch.tensor([[ 0.5,  0.7],\n",
        "                   [ 0.3, -0.7]])\n",
        "\n",
        "W2 = torch.tensor([[0.3, 0.7],\n",
        "                   [0.4, 0.5]], requires_grad=True)\n",
        "\n",
        "z = torch.sigmoid(W1 @ x)\n",
        "y = torch.sigmoid(W2 @ z)\n",
        "\n",
        "t = torch.tensor([0.5, 0.5])\n",
        "\n",
        "loss = ((y - t) ** 2).sum() / 2\n",
        "loss.backward()\n",
        "\n",
        "print(\"y =\", y.detach().numpy())\n",
        "print(\"L =\", loss.item())\n",
        "print(\"∂L/∂w11^(2) =\", W2.grad[0, 0].item())\n"
      ],
      "metadata": {
        "colab": {
          "base_uri": "https://localhost:8080/"
        },
        "id": "ZYiCS3R-BK6x",
        "outputId": "925d840f-df15-49be-aa64-5263d6d364cc"
      },
      "execution_count": null,
      "outputs": [
        {
          "output_type": "stream",
          "name": "stdout",
          "text": [
            "y = [0.6251524 0.624353 ]\n",
            "L = 0.015563394874334335\n",
            "∂L/∂w11^(2) = 0.022539161145687103\n"
          ]
        }
      ]
    }
  ]
}